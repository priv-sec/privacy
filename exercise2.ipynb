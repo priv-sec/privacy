{
  "nbformat": 4,
  "nbformat_minor": 0,
  "metadata": {
    "kernelspec": {
      "name": "python377jvsc74a57bd000fe828615db63367d4538dea818edeccf45ed831be4f445733eae33643b3f7b",
      "display_name": "Python 3.7.7 64-bit"
    },
    "language_info": {
      "codemirror_mode": {
        "name": "ipython",
        "version": 3
      },
      "file_extension": ".py",
      "mimetype": "text/x-python",
      "name": "python",
      "nbconvert_exporter": "python",
      "pygments_lexer": "ipython3",
      "version": "3.7.7"
    },
    "colab": {
      "name": "exercise2.ipynb",
      "provenance": []
    }
  },
  "cells": [
    {
      "cell_type": "code",
      "metadata": {
        "id": "46l4iPIYRyLf"
      },
      "source": [
        "import numpy as np\n",
        "from scipy.special import kn # modified Bessel function of the second kind: \n",
        "                             # https://docs.scipy.org/doc/scipy/reference/generated/scipy.special.kn.html#scipy.special.kn\n",
        "\n",
        "import matplotlib.pyplot as plt\n",
        "from matplotlib.cm import coolwarm # color map\n",
        "from mpl_toolkits.mplot3d import Axes3D # required for 3d plots"
      ],
      "execution_count": null,
      "outputs": []
    },
    {
      "cell_type": "code",
      "metadata": {
        "id": "zL36SKLZobm7"
      },
      "source": [
        "########################\n",
        "#      EXERCISE 3      #\n",
        "########################\n",
        "\n",
        "\n",
        "\"\"\"\n",
        "https://en.wikipedia.org/wiki/Multivariate_Laplace_distribution#Probability_density_function\n",
        "\n",
        "Simplified case:\n",
        "\n",
        " with\n",
        "  mu1 = mu2 = rho = 0 \n",
        "  sigma1 = sigma2 = 1\n",
        "\n",
        " where\n",
        "  mu:    Mean\n",
        "  rho:    Correlation coefficient \n",
        "  sigma: Standard derivation\n",
        "\n",
        " Note: We use <shift_x> and <shift_y> to shift the distribution \n",
        "       instead of varying the means\n",
        "\"\"\"\n",
        "def bivariate_laplace(x, y, shift_x, shift_y):\n",
        "    return # TODO #\n",
        "\n",
        "# Generate x and y coordinates\n",
        "# @see: np.linspace, numpy.meshgrid\n",
        "x, y = # TODO #\n",
        "\n",
        "# Build Laplace distributions\n",
        "bi_lap1, bi_lap2 = # TODO #, # TODO #\n",
        "\n",
        "fig = plt.figure(figsize=(12, 6))\n",
        "ax = fig.gca(projection='3d')\n",
        "ax.plot_surface(x, y, np.maximum(bi_lap1, bi_lap2), cmap=coolwarm) # Use 'maximum' to create a single surface\n",
        "ax.margins(x=-0.4, y=-0.4) # Zoom\n",
        "ax.view_init(35, 65) # Angle\n",
        "plt.show()"
      ],
      "execution_count": null,
      "outputs": []
    }
  ]
}