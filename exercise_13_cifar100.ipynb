{
 "cells": [
  {
   "cell_type": "code",
   "execution_count": null,
   "id": "d11dbc9b-6289-4189-b2e5-1e4e720da5f2",
   "metadata": {},
   "outputs": [],
   "source": [
    "#@title Downloading helper files...<p>(Run this cell first!)\\n\",\n",
    "import urllib.request\n",
    "urllib.request.urlretrieve(\"https://raw.githubusercontent.com/priv-sec/privacy/master/exercise13_data/cifar100/target_train_cifar100_indices.pt\", \"target_train_cifar100_indices.pt\"),\n",
    "urllib.request.urlretrieve(\"https://raw.githubusercontent.com/priv-sec/privacy/master/exercise13_data/cifar100/target_test_cifar100_indices.pt\", \"target_test_cifar100_indices.pt\")\n",
    "urllib.request.urlretrieve(\"https://raw.githubusercontent.com/priv-sec/privacy/master/exercise13_data/cifar100/shadow_cifar100_indices.pt\", \"shadow_cifar100_indices.pt\")\n",
    "urllib.request.urlretrieve(\"https://raw.githubusercontent.com/priv-sec/privacy/master/exercise13_data/MIA.py\", \"MIA.py\")"
   ]
  },
  {
   "cell_type": "code",
   "execution_count": null,
   "id": "811b8b2b-ec8c-4ba1-a4d9-e2d37bbd4c93",
   "metadata": {},
   "outputs": [],
   "source": [
    "import torch\n",
    "import torch.nn as nn\n",
    "import torch.nn.functional as F\n",
    "import torchvision.transforms as transforms\n",
    "from torchvision import datasets\n",
    "from IPython.display import clear_output\n",
    "from tqdm import trange\n",
    "import numpy as np"
   ]
  },
  {
   "cell_type": "markdown",
   "id": "e5652f7e-b384-4e3e-9281-382efecebf98",
   "metadata": {},
   "source": [
    "## Init dataset"
   ]
  },
  {
   "cell_type": "code",
   "execution_count": null,
   "id": "16fe3cee-dbdb-4d1e-a803-2a4fc5a6c817",
   "metadata": {},
   "outputs": [],
   "source": [
    "transform = transforms.Compose([transforms.ToTensor(), transforms.Normalize((0.5, 0.5, 0.5), (0.5, 0.5, 0.5))])\n",
    "\n",
    "train_dataset = datasets.CIFAR100(\"./cifar100\", train=True, download=True, transform=transform)\n",
    "test_dataset = datasets.CIFAR100(\"./cifar100\", train=False, download=True, transform=transform)\n",
    "dataset = train_dataset + test_dataset\n",
    "\n",
    "target_train_dataset_indices = torch.load(\"target_train_cifar100_indices.pt\")\n",
    "target_train_dataset = torch.utils.data.Subset(dataset, target_train_dataset_indices)\n",
    "\n",
    "target_test_dataset_indices = torch.load(\"target_test_cifar100_indices.pt\")\n",
    "target_test_dataset = torch.utils.data.Subset(dataset, target_test_dataset_indices)"
   ]
  },
  {
   "cell_type": "markdown",
   "id": "b705da10-a187-494c-b786-caf42bbb2f4c",
   "metadata": {},
   "source": [
    "## Create a neural network"
   ]
  },
  {
   "cell_type": "code",
   "execution_count": null,
   "id": "5c95908d-8ef2-454c-9bdd-2a6af90d4d49",
   "metadata": {},
   "outputs": [],
   "source": [
    "###################\n",
    "#     EDIT ME     #\n",
    "###################\n",
    "\n",
    "class CNN(nn.Module):\n",
    "\n",
    "    def __init__(self):\n",
    "        super().__init__()\n",
    "        self.conv1 = nn.Conv2d(3, 32, (5, 5))\n",
    "        self.pool = nn.MaxPool2d(2, 2)\n",
    "        self.fc1 = nn.Linear(6272, 128)\n",
    "        self.fc2 = nn.Linear(128, 100)\n",
    "\n",
    "    def forward(self, x):\n",
    "        x = self.pool( F.relu( self.conv1(x) ) )\n",
    "        x = torch.flatten(x, 1) \n",
    "        x = torch.tanh( self.fc1(x) )\n",
    "        x = self.fc2(x)\n",
    "        return x"
   ]
  },
  {
   "cell_type": "markdown",
   "id": "0a087ef6-2af2-416d-8b54-630d72be88d8",
   "metadata": {},
   "source": [
    "## Train and test"
   ]
  },
  {
   "cell_type": "code",
   "execution_count": null,
   "id": "3e49c5ad-6eaf-410b-aa39-1e6dcb946cec",
   "metadata": {},
   "outputs": [],
   "source": [
    "###################\n",
    "#     EDIT ME     #\n",
    "###################\n",
    "\n",
    "def train(model, device, train_loader):\n",
    "    \"\"\"\n",
    "    \"\"\"\n",
    "\n",
    "    model.train()\n",
    "\n",
    "    optimizer = torch.optim.Adam(model.parameters())\n",
    "\n",
    "    train_loss = 0\n",
    "    correct = 0\n",
    "\n",
    "    for data, target in train_loader:\n",
    "\n",
    "        data, target = data.to(device), target.to(device)\n",
    "\n",
    "        optimizer.zero_grad()\n",
    "\n",
    "        output = model(data)\n",
    "\n",
    "        loss = F.cross_entropy(output, target)\n",
    "        loss.backward()\n",
    "\n",
    "        optimizer.step()\n",
    "\n",
    "        pred = output.argmax(dim=1, keepdim=True)\n",
    "        correct += pred.eq(target.view_as(pred)).sum().item()\n",
    "        train_loss += loss.item()\n",
    "\n",
    "    train_loss /= len(train_loader.dataset)\n",
    "\n",
    "    return train_loss, 100. * correct / len(train_loader.dataset)\n",
    "\n",
    "\n",
    "\n",
    "def test(model, device, test_loader):\n",
    "    \"\"\"\n",
    "    \"\"\"\n",
    "\n",
    "    model.eval()\n",
    "\n",
    "    test_loss = 0\n",
    "    correct = 0\n",
    "\n",
    "    with torch.no_grad():\n",
    "\n",
    "        for data, target in test_loader:\n",
    "\n",
    "            data, target = data.to(device), target.to(device)\n",
    "\n",
    "            output = model(data)\n",
    "\n",
    "            test_loss += F.cross_entropy(output, target, reduction='sum').item()  \n",
    "            pred = output.argmax(dim=1, keepdim=True)\n",
    "            correct += pred.eq(target.view_as(pred)).sum().item()\n",
    "\n",
    "    test_loss /= len(test_loader.dataset)\n",
    "\n",
    "    return test_loss, 100. * correct / len(test_loader.dataset)"
   ]
  },
  {
   "cell_type": "markdown",
   "id": "fc5dcd4d-8a81-49fc-9b4f-d33d99494338",
   "metadata": {},
   "source": [
    "## Main"
   ]
  },
  {
   "cell_type": "code",
   "execution_count": null,
   "id": "c9f34d87-29fa-4ee2-84b8-2180cebfc13f",
   "metadata": {},
   "outputs": [],
   "source": [
    "use_cuda = torch.cuda.is_available()\n",
    "device = torch.device(\"cuda\" if use_cuda else \"cpu\")\n",
    "\n",
    "train_kwargs = {'batch_size': 32}     # <- EDIT ME\n",
    "test_kwargs  = {'batch_size': 1000}   # <- EDIT ME\n",
    "    \n",
    "if use_cuda:\n",
    "    cuda_kwargs = {'num_workers': 1,\n",
    "                   'pin_memory': True,\n",
    "                   'shuffle': True}\n",
    "    train_kwargs.update(cuda_kwargs)\n",
    "    test_kwargs.update(cuda_kwargs)\n",
    "\n",
    "train_target_loader = torch.utils.data.DataLoader(target_train_dataset,**train_kwargs)\n",
    "test_target_loader  = torch.utils.data.DataLoader(target_test_dataset, **test_kwargs)\n",
    "\n",
    "model = CNN().to(device)\n",
    "\n",
    "epochs = 40"
   ]
  },
  {
   "cell_type": "code",
   "execution_count": null,
   "id": "6496fa27-bc96-448e-b1d2-044fbd63c7ba",
   "metadata": {},
   "outputs": [],
   "source": [
    "# TRAIN & SAVE...\n",
    "\n",
    "for epoch in trange(1, epochs + 1):\n",
    "    \n",
    "    train_loss, train_acc = train(model, device, train_target_loader)\n",
    "    \n",
    "    clear_output(wait=True)\n",
    "    test_loss, test_acc = test(model, device, test_target_loader)\n",
    "    print(\"Train => Loss: {:.4f}, Accuracy: {:.2f}%\".format(train_loss, train_acc))\n",
    "    print(\"Test  => Loss: {:.4f}, Accuracy: {:.2f}%\".format(test_loss, test_acc))\n",
    "    \n",
    "torch.save(model.state_dict(), \"./target_model_cifar100.pt\")"
   ]
  },
  {
   "cell_type": "code",
   "execution_count": null,
   "id": "2065a94d-edd4-4adf-a8b6-472723c30764",
   "metadata": {},
   "outputs": [],
   "source": [
    "# ...OR LOAD\n",
    "\n",
    "model.load_state_dict(torch.load(\"./target_model_cifar100.pt\"))  # Load pre-trained weights"
   ]
  },
  {
   "cell_type": "markdown",
   "id": "a3922eed-bbe0-45a7-9a51-bd3716dba7c9",
   "metadata": {},
   "source": [
    "## Test MIA attack"
   ]
  },
  {
   "cell_type": "code",
   "execution_count": null,
   "id": "75df1d68-9411-4625-bbae-009890038f86",
   "metadata": {},
   "outputs": [],
   "source": [
    "#################\n",
    "# DO NOT CHANGE #\n",
    "#################\n",
    "\n",
    "from MIA import get_mia_accuracy\n",
    "\n",
    "shadow_dataset_indices = torch.load(\"shadow_cifar100_indices.pt\")\n",
    "shadow_dataset = torch.utils.data.Subset(dataset, shadow_dataset_indices)\n",
    "attack_acc = get_mia_accuracy(CNN, model, epochs, device, (train_target_loader, test_target_loader), train_kwargs, train, shadow_dataset, \n",
    "                              15, load_shadow=False)\n",
    "    \n",
    "print(\"### MIA RESULTS ###\")\n",
    "print(\"Accuracy:\", attack_acc)"
   ]
  },
  {
   "cell_type": "markdown",
   "id": "48385f8a-8895-4b66-9b11-f7cfd629e9a1",
   "metadata": {},
   "source": [
    "## Evaluation"
   ]
  },
  {
   "cell_type": "code",
   "execution_count": null,
   "id": "ac8ae910-a0b2-47bf-ad97-7948656b5af1",
   "metadata": {},
   "outputs": [],
   "source": [
    "##########################\n",
    "# INSERT ACC VALUES IN % #\n",
    "##########################\n",
    "\n",
    "attack_points = lambda x: (1 / (1 + np.exp((-x / 3) + 21))) * 40\n",
    "training_points = lambda x: (1 / (1 + np.exp((-x / 8) + 7))) * 40\n",
    "\n",
    "# Plot sigmoids\n",
    "from matplotlib import pyplot as plt\n",
    "x = np.linspace(0, 110, 100)\n",
    "figure = plt.figure(figsize=(15, 4))\n",
    "figure.add_subplot(1, 2, 1)\n",
    "plt.title(\"Training Accuracy\\nPoints\")\n",
    "plt.plot(x, training_points(x))\n",
    "plt.plot(train_acc, training_points(train_acc), 'ro')\n",
    "plt.grid(True)\n",
    "figure.add_subplot(1, 2, 2)\n",
    "plt.title(\"MIA Accuracy\\nPoints\")\n",
    "plt.plot(x, attack_points(x))\n",
    "plt.plot(attack_acc, attack_points(attack_acc), 'ro')\n",
    "plt.grid(True)\n",
    "plt.show()\n",
    "\n",
    "points = training_points(train_acc) - attack_points(attack_acc)\n",
    "print(\"Points: {:.1f}\".format(points/10))"
   ]
  }
 ],
 "metadata": {
  "kernelspec": {
   "display_name": "Pytorch (1 gpu)",
   "language": "python",
   "name": "pytorch-gpu"
  },
  "language_info": {
   "codemirror_mode": {
    "name": "ipython",
    "version": 3
   },
   "file_extension": ".py",
   "mimetype": "text/x-python",
   "name": "python",
   "nbconvert_exporter": "python",
   "pygments_lexer": "ipython3",
   "version": "3.8.6"
  }
 },
 "nbformat": 4,
 "nbformat_minor": 5
}
