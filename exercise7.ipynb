{
  "nbformat": 4,
  "nbformat_minor": 0,
  "metadata": {
    "accelerator": "GPU",
    "colab": {
      "name": "exercise5_sol.ipynb",
      "provenance": [],
      "collapsed_sections": [],
      "toc_visible": true
    },
    "kernelspec": {
      "name": "python392jvsc74a57bd0d1ad8b750a3f4b1b4f9c3630e048c15b43751787de3a7dd9a326e03471973a96",
      "display_name": "Python 3.9.2 64-bit ('jupyterlab-ext': conda)"
    },
    "language_info": {
      "name": "python",
      "version": "3.9.2"
    },
    "widgets": {
      "application/vnd.jupyter.widget-state+json": {
        "f3cbe34fe4f6425687d22e510dd26b76": {
          "model_module": "@jupyter-widgets/controls",
          "model_name": "HBoxModel",
          "state": {
            "_view_name": "HBoxView",
            "_dom_classes": [],
            "_model_name": "HBoxModel",
            "_view_module": "@jupyter-widgets/controls",
            "_model_module_version": "1.5.0",
            "_view_count": null,
            "_view_module_version": "1.5.0",
            "box_style": "",
            "layout": "IPY_MODEL_2c74eb7837684e84b0d43ceaf69f8589",
            "_model_module": "@jupyter-widgets/controls",
            "children": [
              "IPY_MODEL_706310d2f694479da14ed5bbe9ce39ef",
              "IPY_MODEL_0ec2c23a0331456abb1e6ed324de5b1d"
            ]
          }
        },
        "2c74eb7837684e84b0d43ceaf69f8589": {
          "model_module": "@jupyter-widgets/base",
          "model_name": "LayoutModel",
          "state": {
            "_view_name": "LayoutView",
            "grid_template_rows": null,
            "right": null,
            "justify_content": null,
            "_view_module": "@jupyter-widgets/base",
            "overflow": null,
            "_model_module_version": "1.2.0",
            "_view_count": null,
            "flex_flow": null,
            "width": null,
            "min_width": null,
            "border": null,
            "align_items": null,
            "bottom": null,
            "_model_module": "@jupyter-widgets/base",
            "top": null,
            "grid_column": null,
            "overflow_y": null,
            "overflow_x": null,
            "grid_auto_flow": null,
            "grid_area": null,
            "grid_template_columns": null,
            "flex": null,
            "_model_name": "LayoutModel",
            "justify_items": null,
            "grid_row": null,
            "max_height": null,
            "align_content": null,
            "visibility": null,
            "align_self": null,
            "height": null,
            "min_height": null,
            "padding": null,
            "grid_auto_rows": null,
            "grid_gap": null,
            "max_width": null,
            "order": null,
            "_view_module_version": "1.2.0",
            "grid_template_areas": null,
            "object_position": null,
            "object_fit": null,
            "grid_auto_columns": null,
            "margin": null,
            "display": null,
            "left": null
          }
        },
        "706310d2f694479da14ed5bbe9ce39ef": {
          "model_module": "@jupyter-widgets/controls",
          "model_name": "FloatProgressModel",
          "state": {
            "_view_name": "ProgressView",
            "style": "IPY_MODEL_6ebc3616ce044e86bd9a44d14cc04161",
            "_dom_classes": [],
            "description": "Epoch:   8%",
            "_model_name": "FloatProgressModel",
            "bar_style": "",
            "max": 50,
            "_view_module": "@jupyter-widgets/controls",
            "_model_module_version": "1.5.0",
            "value": 4,
            "_view_count": null,
            "_view_module_version": "1.5.0",
            "orientation": "horizontal",
            "min": 0,
            "description_tooltip": null,
            "_model_module": "@jupyter-widgets/controls",
            "layout": "IPY_MODEL_968d347332914da691fd489d3fc97425"
          }
        },
        "0ec2c23a0331456abb1e6ed324de5b1d": {
          "model_module": "@jupyter-widgets/controls",
          "model_name": "HTMLModel",
          "state": {
            "_view_name": "HTMLView",
            "style": "IPY_MODEL_e31c1ed89eda4b68a90b165bcbfd2cf0",
            "_dom_classes": [],
            "description": "",
            "_model_name": "HTMLModel",
            "placeholder": "​",
            "_view_module": "@jupyter-widgets/controls",
            "_model_module_version": "1.5.0",
            "value": " 4/50 [00:25&lt;04:48,  6.28s/epoch]",
            "_view_count": null,
            "_view_module_version": "1.5.0",
            "description_tooltip": null,
            "_model_module": "@jupyter-widgets/controls",
            "layout": "IPY_MODEL_b2c0a0ab494f4959996a7c93640762a9"
          }
        },
        "6ebc3616ce044e86bd9a44d14cc04161": {
          "model_module": "@jupyter-widgets/controls",
          "model_name": "ProgressStyleModel",
          "state": {
            "_view_name": "StyleView",
            "_model_name": "ProgressStyleModel",
            "description_width": "initial",
            "_view_module": "@jupyter-widgets/base",
            "_model_module_version": "1.5.0",
            "_view_count": null,
            "_view_module_version": "1.2.0",
            "bar_color": null,
            "_model_module": "@jupyter-widgets/controls"
          }
        },
        "968d347332914da691fd489d3fc97425": {
          "model_module": "@jupyter-widgets/base",
          "model_name": "LayoutModel",
          "state": {
            "_view_name": "LayoutView",
            "grid_template_rows": null,
            "right": null,
            "justify_content": null,
            "_view_module": "@jupyter-widgets/base",
            "overflow": null,
            "_model_module_version": "1.2.0",
            "_view_count": null,
            "flex_flow": null,
            "width": null,
            "min_width": null,
            "border": null,
            "align_items": null,
            "bottom": null,
            "_model_module": "@jupyter-widgets/base",
            "top": null,
            "grid_column": null,
            "overflow_y": null,
            "overflow_x": null,
            "grid_auto_flow": null,
            "grid_area": null,
            "grid_template_columns": null,
            "flex": null,
            "_model_name": "LayoutModel",
            "justify_items": null,
            "grid_row": null,
            "max_height": null,
            "align_content": null,
            "visibility": null,
            "align_self": null,
            "height": null,
            "min_height": null,
            "padding": null,
            "grid_auto_rows": null,
            "grid_gap": null,
            "max_width": null,
            "order": null,
            "_view_module_version": "1.2.0",
            "grid_template_areas": null,
            "object_position": null,
            "object_fit": null,
            "grid_auto_columns": null,
            "margin": null,
            "display": null,
            "left": null
          }
        },
        "e31c1ed89eda4b68a90b165bcbfd2cf0": {
          "model_module": "@jupyter-widgets/controls",
          "model_name": "DescriptionStyleModel",
          "state": {
            "_view_name": "StyleView",
            "_model_name": "DescriptionStyleModel",
            "description_width": "",
            "_view_module": "@jupyter-widgets/base",
            "_model_module_version": "1.5.0",
            "_view_count": null,
            "_view_module_version": "1.2.0",
            "_model_module": "@jupyter-widgets/controls"
          }
        },
        "b2c0a0ab494f4959996a7c93640762a9": {
          "model_module": "@jupyter-widgets/base",
          "model_name": "LayoutModel",
          "state": {
            "_view_name": "LayoutView",
            "grid_template_rows": null,
            "right": null,
            "justify_content": null,
            "_view_module": "@jupyter-widgets/base",
            "overflow": null,
            "_model_module_version": "1.2.0",
            "_view_count": null,
            "flex_flow": null,
            "width": null,
            "min_width": null,
            "border": null,
            "align_items": null,
            "bottom": null,
            "_model_module": "@jupyter-widgets/base",
            "top": null,
            "grid_column": null,
            "overflow_y": null,
            "overflow_x": null,
            "grid_auto_flow": null,
            "grid_area": null,
            "grid_template_columns": null,
            "flex": null,
            "_model_name": "LayoutModel",
            "justify_items": null,
            "grid_row": null,
            "max_height": null,
            "align_content": null,
            "visibility": null,
            "align_self": null,
            "height": null,
            "min_height": null,
            "padding": null,
            "grid_auto_rows": null,
            "grid_gap": null,
            "max_width": null,
            "order": null,
            "_view_module_version": "1.2.0",
            "grid_template_areas": null,
            "object_position": null,
            "object_fit": null,
            "grid_auto_columns": null,
            "margin": null,
            "display": null,
            "left": null
          }
        }
      }
    }
  },
  "cells": [
    {
      "cell_type": "code",
      "metadata": {
        "id": "oEPAi4yG_-Ui"
      },
      "source": [
        "#@title Downloading helper files...<p>(Run this cell first!)\\n\",\n",
        "import urllib.request\n",
        "urllib.request.urlretrieve(\"https://raw.githubusercontent.com/priv-sec/privacy/master/exercise7_data/binary_model.py\", \"binary_model.py\"),\n",
        "urllib.request.urlretrieve(\"https://raw.githubusercontent.com/priv-sec/privacy/master/exercise7_data/cifar10_model.py\", \"cifar10_model.py\")"
      ],
      "execution_count": null,
      "outputs": []
    },
    {
      "cell_type": "markdown",
      "metadata": {
        "id": "8HrcITdhLpnS"
      },
      "source": [
        "## Membership Inference Attack (Salem et al.)\n",
        "\n",
        "Paper Link: https://arxiv.org/pdf/1806.01246.pdf\n",
        "\n",
        "You have to implement the adversary 1 scenario : TOWARDS MODEL INDEPENDENT MEMBERSHIP INFERENCE ATTACKS(ADVERSARY1). The single shadow model has the same structure and uses the same algorithms as the target model.\n",
        "\n",
        "**1) Preprocess the Cifar10 dataset**\n",
        "\n",
        "**2) Train target model**\n",
        "\n",
        "**3) Train shadow model**\n",
        "\n",
        "**4) Create attack dataset**\n",
        "\n",
        "**5) Train attack model**\n",
        "\n",
        "**6) Evaluation**\n",
        "\n",
        "Note:\n",
        "- The binary model outputs a single numerical value which can then be rounded to obtain the label '0' or '1'\n",
        "- Use torch.save(model.state_dict(), \"./model.pt\") to safe the weights of your model\n",
        "- Use model.load_state_dict(torch.load(\"./model.pt\")) to load the weights of your model"
      ]
    },
    {
      "cell_type": "markdown",
      "metadata": {
        "id": "HXe-YsY__-Uq"
      },
      "source": [
        "## Preprocess the Cifar10 dataset"
      ]
    },
    {
      "cell_type": "code",
      "metadata": {
        "id": "Yl2W4n2OJgLk"
      },
      "source": [
        "import torch\n",
        "import torch.optim as optim\n",
        "from torchvision import datasets, transforms\n",
        "import numpy as np\n",
        "\n",
        "from cifar10_model import Cifar10Net, train_cifar10_model\n",
        "from binary_model import BinaryNet, train_binary_model"
      ],
      "execution_count": null,
      "outputs": []
    },
    {
      "cell_type": "code",
      "metadata": {
        "id": "eBaVeGx8_-Ur"
      },
      "source": [
        "TRAIN_BATCHSIZE = 32\n",
        "TEST_BATCHSIZE = 1000\n",
        "\n",
        "EPOCHS_TARGET = 1 # [1, 10, 30, 50]\n",
        "EPOCHS_SHADOW = 40\n",
        "EPOCHS_ATTACKER = # 1-20 #"
      ],
      "execution_count": null,
      "outputs": []
    },
    {
      "cell_type": "code",
      "metadata": {
        "id": "D4hwNcHvJCyM"
      },
      "source": [
        "def get_cifar10_dataset(root_dir=\"./data\"):\n",
        "    transform = transforms.Compose([transforms.ToTensor(), transforms.Normalize((0.5, 0.5, 0.5), (0.5, 0.5, 0.5))])\n",
        "\n",
        "    train_dataset = datasets.CIFAR10(root='./data', train=True, download=True, transform=transform)\n",
        "    test_dataset = datasets.CIFAR10(root='./data', train=False, download=True, transform=transform)\n",
        "\n",
        "    return train_dataset, test_dataset\n",
        "\n",
        "\n",
        "def split_dataset(dataset):\n",
        "\n",
        "    train_target_indices, test_target_indices, train_shadow_indices, test_shadow_indices, *_ = \\\n",
        "                 torch.utils.data.random_split(dataset, [len(dataset)//5]*5)\n",
        "\n",
        "    train_target = torch.utils.data.DataLoader(train_target_indices, **train_kwargs)\n",
        "    test_target = torch.utils.data.DataLoader(test_target_indices, **test_kwargs)\n",
        "    train_shadow = torch.utils.data.DataLoader(train_shadow_indices, **train_kwargs)\n",
        "    test_shadow = torch.utils.data.DataLoader(test_shadow_indices, **test_kwargs)\n",
        "\n",
        "    return (train_target, test_target), (train_shadow, test_shadow)"
      ],
      "execution_count": null,
      "outputs": []
    },
    {
      "cell_type": "code",
      "metadata": {
        "id": "PPCV6eun7Fsf"
      },
      "source": [
        "cuda_available = torch.cuda.is_available()\n",
        "device = torch.device(\"cuda\" if cuda_available else \"cpu\")\n",
        "\n",
        "train_kwargs = {\n",
        "    'batch_size': TRAIN_BATCHSIZE,\n",
        "    'shuffle': True\n",
        "    }\n",
        "\n",
        "test_kwargs = {\n",
        "    'batch_size': TEST_BATCHSIZE,\n",
        "    'shuffle': True\n",
        "    }\n",
        "\n",
        "if cuda_available:\n",
        "    cuda_kwargs = {\n",
        "        'num_workers': 2,\n",
        "        'pin_memory': True,\n",
        "        'shuffle': True\n",
        "        }\n",
        "    train_kwargs.update(cuda_kwargs)\n",
        "    test_kwargs.update(cuda_kwargs)"
      ],
      "execution_count": null,
      "outputs": []
    },
    {
      "cell_type": "code",
      "metadata": {
        "id": "HFhVoxXw7Gby",
        "colab": {
          "base_uri": "https://localhost:8080/"
        },
        "outputId": "800bb9cd-7163-4326-fb5b-00bc0e0e0a29"
      },
      "source": [
        "train_dataset, test_dataset = get_cifar10_dataset()\n",
        "\n",
        "(train_target_loader, test_target_loader), (train_shadow_loader, test_shadow_loader) = split_dataset(train_dataset + test_dataset)"
      ],
      "execution_count": null,
      "outputs": []
    },
    {
      "cell_type": "markdown",
      "metadata": {
        "id": "pZ0qFwwsgXWL"
      },
      "source": [
        "## Target Model"
      ]
    },
    {
      "cell_type": "code",
      "metadata": {
        "id": "v_E9JcaagW27",
        "colab": {
          "base_uri": "https://localhost:8080/",
          "height": 267,
          "referenced_widgets": [
            "f3cbe34fe4f6425687d22e510dd26b76",
            "2c74eb7837684e84b0d43ceaf69f8589",
            "706310d2f694479da14ed5bbe9ce39ef",
            "0ec2c23a0331456abb1e6ed324de5b1d",
            "6ebc3616ce044e86bd9a44d14cc04161",
            "968d347332914da691fd489d3fc97425",
            "e31c1ed89eda4b68a90b165bcbfd2cf0",
            "b2c0a0ab494f4959996a7c93640762a9"
          ]
        },
        "outputId": "f4f75aaa-e4bb-492c-e066-49106942a9bb"
      },
      "source": [
        "target_model = Cifar10Net().to(device)\n",
        "# TODO: Train target model; Please use the provided training method #"
      ],
      "execution_count": null,
      "outputs": []
    },
    {
      "cell_type": "markdown",
      "metadata": {
        "id": "eAMIfBY8NJzx"
      },
      "source": [
        "## Shadow Model"
      ]
    },
    {
      "cell_type": "code",
      "metadata": {
        "id": "uzm4Ix8ZK3Bl"
      },
      "source": [
        "shadow_model = Cifar10Net().to(device)\n",
        "# TODO: Train shadow model; Please use the provided training method #"
      ],
      "execution_count": null,
      "outputs": []
    },
    {
      "cell_type": "markdown",
      "metadata": {
        "id": "vENn-riuNOvp"
      },
      "source": [
        "## Create Attack Dataset"
      ]
    },
    {
      "cell_type": "code",
      "metadata": {
        "id": "5FCIUjLO_-Ut"
      },
      "source": [
        "def getTopk(data, top):\n",
        "    \"\"\"\n",
        "    Returns the top k maximum entries of the given data.\n",
        "    \"\"\"\n",
        "    \n",
        "    return # TODO #\n",
        "\n",
        "\n",
        "# TODO: Create softmax layer with the correct dimension #\n",
        "\n",
        "def predict_(model, data_loader):\n",
        "    \"\"\"\n",
        "    Iterates the given data_loader and collects the predicition vectors\n",
        "    of the given model in a list.\n",
        "    Note: It is essential for this attack to apply the softmax function \n",
        "          DIRECTLY AFTER receiving the prediction vectors of the Cifar10 models\n",
        "    \"\"\"\n",
        "\n",
        "    preds = list()\n",
        "    with torch.no_grad():\n",
        "        # TODO: Store predictions in <preds> #\n",
        "        # Hint: Be aware of the batches! #\n",
        "    return preds"
      ],
      "execution_count": null,
      "outputs": []
    },
    {
      "cell_type": "code",
      "metadata": {
        "id": "ku9mtzkaND_f",
        "tags": []
      },
      "source": [
        "shadow_model.eval()\n",
        "\n",
        "# IN -> Predictions for members (Label 1)\n",
        "shadow_preds_IN = # TODO #\n",
        "shadow_labels_IN = # TODO #\n",
        "\n",
        "# OUT -> Predictions for non-members (Label 0)\n",
        "shadow_preds_OUT = # TODO #\n",
        "shadow_labels_OUT = # TODO #\n",
        "\n",
        "# ALL = IN + OUT\n",
        "shadow_preds = np.concatenate([shadow_preds_IN, shadow_preds_OUT])\n",
        "shadow_labels = np.concatenate([shadow_labels_IN, shadow_labels_OUT])\n",
        "\n",
        "# Top 3 prediction values for every data point\n",
        "shadow_preds = # TODO #"
      ],
      "execution_count": null,
      "outputs": []
    },
    {
      "cell_type": "code",
      "metadata": {
        "id": "rh59CEcb_-Uu"
      },
      "source": [
        "# Create attack dataset -> train (and test)\n",
        "\n",
        "size_test_data = 1000\n",
        "\n",
        "attack_dataset = torch.utils.data.TensorDataset(torch.Tensor(shadow_preds[size_test_data:]).type(torch.FloatTensor), torch.Tensor(shadow_labels[size_test_data:]).type(torch.LongTensor) )\n",
        "train_attacker_loader = torch.utils.data.DataLoader(attack_dataset, **train_kwargs)\n",
        "\n",
        "attack_dataset_test = torch.utils.data.TensorDataset(torch.Tensor(shadow_preds[:size_test_data]).type(torch.FloatTensor), torch.Tensor(shadow_labels[:size_test_data]).type(torch.LongTensor) )\n",
        "test_attacker_loader = torch.utils.data.DataLoader(attack_dataset_test, **test_kwargs)"
      ],
      "execution_count": null,
      "outputs": []
    },
    {
      "cell_type": "markdown",
      "metadata": {
        "id": "GBgolFVTNSUx"
      },
      "source": [
        "## Attack Model"
      ]
    },
    {
      "cell_type": "code",
      "metadata": {
        "id": "Pz21jeHVOkCd",
        "tags": []
      },
      "source": [
        "attack_model = BinaryNet().to(device)\n",
        "# TODO: Train attack model; Please use the provided training method#"
      ],
      "execution_count": null,
      "outputs": []
    },
    {
      "cell_type": "markdown",
      "metadata": {
        "id": "zeJQuRFtNeeR"
      },
      "source": [
        "## Evaluation"
      ]
    },
    {
      "cell_type": "code",
      "metadata": {
        "id": "LowDJFdBNe4J",
        "tags": []
      },
      "source": [
        "target_model.eval()\n",
        "\n",
        "# IN -> Predictions for members (Label 1)\n",
        "target_preds_IN = # TODO #\n",
        "target_labels_IN = # TODO #\n",
        "\n",
        "# OUT -> Predictions for non-members (Label 0)\n",
        "target_preds_OUT = # TODO #\n",
        "target_labels_OUT = # TODO #\n",
        "\n",
        "# ALL = IN + OUT\n",
        "target_preds = np.concatenate([target_preds_IN, target_preds_OUT])\n",
        "target_labels = np.concatenate([target_labels_IN, target_labels_OUT])\n",
        "\n",
        "# Top 3 prediction values for every data point\n",
        "target_preds = # TODO # "
      ],
      "execution_count": null,
      "outputs": []
    },
    {
      "cell_type": "code",
      "metadata": {
        "id": "WfLI_N6QfDNW"
      },
      "source": [
        "# Create evaluation dataset\n",
        "eval_dataset = torch.utils.data.TensorDataset(torch.Tensor(target_preds).type(torch.FloatTensor), torch.Tensor(target_labels).type(torch.LongTensor) )\n",
        "train_eval_loader = torch.utils.data.DataLoader(eval_dataset, **test_kwargs)"
      ],
      "execution_count": null,
      "outputs": []
    },
    {
      "cell_type": "code",
      "metadata": {
        "id": "Evlo2d98y0pM",
        "tags": []
      },
      "source": [
        "attack_model.eval()\n",
        "\n",
        "with torch.no_grad():\n",
        "    # TODO: Iterate evaluation dataset and calculate the accuracy on the target model #\n",
        "\n",
        "accuracy = # TODO #\n",
        "\n",
        "print(\"Accuracy\", accuracy)"
      ],
      "execution_count": null,
      "outputs": []
    }
  ]
}