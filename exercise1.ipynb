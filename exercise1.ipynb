{
 "cells": [
  {
   "cell_type": "code",
   "execution_count": null,
   "metadata": {},
   "outputs": [],
   "source": [
    "import urllib.request\n",
    "urllib.request.urlretrieve(\"https://raw.githubusercontent.com/priv-sec/privacy/master/exercise1_data/known_traces.py\", \"known_traces.py\")\n",
    "urllib.request.urlretrieve(\"https://raw.githubusercontent.com/priv-sec/privacy/master/exercise1_data/unknown_traces.py\", \"unknown_traces.py\")"
   ]
  },
  {
   "cell_type": "code",
   "execution_count": null,
   "metadata": {},
   "outputs": [],
   "source": [
    "import nltk\n",
    "from known_traces import known_traces\n",
    "from unknown_traces import unknown_traces\n",
    "    \n",
    "\n",
    "# Make a dictionary out of the candidates' corpora\n",
    "movements_by_candidate_tokens = {\\\n",
    "    '1':[],\\\n",
    "    '2':[],\\\n",
    "    '3':[],\\\n",
    "    '4':[],\\\n",
    "    '5':[],\\\n",
    "    '6':[],\\\n",
    "    'unknown':[]\\\n",
    "}\n",
    "\n",
    "for (candidate, subtrace) in known_traces:\n",
    "    movements_by_candidate_tokens[str(candidate)] += subtrace\n",
    "    \n",
    "for subtrace in unknown_traces:\n",
    "    movements_by_candidate_tokens['unknown'] += subtrace\n",
    "\n",
    "# Who are the candidates we are analyzing?\n",
    "candidates = ['1','2','3','4','5','6']\n",
    "\n",
    "# Calculate chisquared for each of the two candidate candidates\n",
    "## Have fun!\n"
   ]
  }
 ],
 "metadata": {
  "kernelspec": {
   "name": "python377jvsc74a57bd000fe828615db63367d4538dea818edeccf45ed831be4f445733eae33643b3f7b",
   "display_name": "Python 3.7.7 64-bit"
  },
  "language_info": {
   "codemirror_mode": {
    "name": "ipython",
    "version": 3
   },
   "file_extension": ".py",
   "mimetype": "text/x-python",
   "name": "python",
   "nbconvert_exporter": "python",
   "pygments_lexer": "ipython3",
   "version": "3.7.7"
  }
 },
 "nbformat": 4,
 "nbformat_minor": 2
}