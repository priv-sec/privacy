{
  "nbformat": 4,
  "nbformat_minor": 0,
  "metadata": {
    "kernelspec": {
      "name": "python377jvsc74a57bd000fe828615db63367d4538dea818edeccf45ed831be4f445733eae33643b3f7b",
      "display_name": "Python 3.7.7 64-bit"
    },
    "language_info": {
      "codemirror_mode": {
        "name": "ipython",
        "version": 3
      },
      "file_extension": ".py",
      "mimetype": "text/x-python",
      "name": "python",
      "nbconvert_exporter": "python",
      "pygments_lexer": "ipython3",
      "version": "3.7.7"
    },
    "colab": {
      "name": "exercise2.ipynb",
      "provenance": []
    }
  },
  "cells": [
    {
      "cell_type": "code",
      "metadata": {
        "id": "46l4iPIYRyLf"
      },
      "source": [
        "import numpy as np\n",
        "import matplotlib.pyplot as plt"
      ],
      "execution_count": null,
      "outputs": []
    },
    {
      "cell_type": "code",
      "metadata": {
        "id": "_8dNTSGVx5W7",
        "outputId": "84a165d1-c875-41f9-f701-c4192283d8bd",
        "colab": {
          "base_uri": "https://localhost:8080/",
          "height": 809
        }
      },
      "source": [
        "########################\n",
        "#      EXERCISE 1      #\n",
        "########################\n",
        "\n",
        "\n",
        "\"\"\"\n",
        "See https://eprint.iacr.org/2018/820.pdf from Section 4.1 until Lemma 1 (Basic Properties of PLD)\n",
        "\"\"\"\n",
        "\n",
        "\n",
        "# PDF of a 2d Laplace distribution\n",
        "def univariate_laplace(x: np.array, mu: float, b: float):\n",
        "  return (1 / (2*b)) * np.exp( - (np.abs(x - mu) / b) )\n",
        "\n",
        "\n",
        "# PDF of a 2d Gauss distribution\n",
        "def univariate_gauss(x: np.array, mu: float, sigma: float):\n",
        "  return (1 / (sigma * np.sqrt(2*np.pi))) * np.exp( -0.5 * ((x-mu)/sigma)**2 ) \n",
        "\n",
        "\n",
        "# Two distict elements with ||x0-x1|| = 1\n",
        "x0, x1 = 10, 11\n",
        "\n",
        "\n",
        "def create_pld(U: numpy.array, x0: int, x1: int, distribution: str, *dist_params):\n",
        "  \"\"\"\n",
        "  Calculates the Privacy Loss Distribution (PLD) w \n",
        "  given two possible inputs and a distribution.\n",
        "\n",
        "  :param U: Universe of possible outputs\n",
        "  :param x0, x1: Two possible inputs\n",
        "  :param distribution: \"laplace\" or \"gauss\"\n",
        "  :param dist_params: Parameters for the specific distribution\n",
        "\n",
        "  :return: The function omega as tuple of two lists (y, w(y))\n",
        "  \"\"\"\n",
        "\n",
        "  dist_func = {\n",
        "               \"laplace\": univariate_laplace, \n",
        "               \"gauss\"  : univariate_gauss\n",
        "              }\n",
        "\n",
        "  # Distibution with mean x0 -> M(x0)\n",
        "  p_x0 = dist_func[distribution](U, x0, *dist_params)\n",
        "  # Distibution with mean x1 -> M(x1)\n",
        "  p_x1 = dist_func[distribution](U, x1, *dist_params)\n",
        "\n",
        "  # Privacy Loss Random Variable M(x0) / M(x1)\n",
        "  # Note: You can ignore -inf and +inf, because the chosen universes avoid this case\n",
        "  losses = # TODO #\n",
        "\n",
        "  # Set of unique losses on the real line\n",
        "  Y = # TODO #\n",
        "\n",
        "  # Build function w(y) for y in Y\n",
        "  omega = (list(), list())  # (y, w(y))\n",
        "\n",
        "  # TODO #\n",
        "\n",
        "  return omega\n",
        "\n",
        "\n",
        "#\n",
        "# Note:\n",
        "# We use two different universes just for the sake of the plots.\n",
        "# By using just one universe, either the Gauss PLD is too edgy or\n",
        "# the Laplace PLD is inaccurate since we originally are in a continuos universe.\n",
        "#\n",
        "\n",
        "# Calculate PLD under Laplace\n",
        "U_laplace = np.arange(-700, 700, 1, dtype=np.float64)\n",
        "omega_laplace = create_pld(U_laplace, x0, x1, \"laplace\", 1)\n",
        "\n",
        "# Calculate PLD under Gauss\n",
        "U_gauss = np.arange(-20, 20, 0.1, dtype=np.float64)\n",
        "omega_gauss = create_pld(U_gauss, x0, x1, \"gauss\", 1)\n",
        "\n",
        "\n",
        "## Plots of the PLD for Laplace and Gauss ##\n",
        "\n",
        "plt.plot(*omega_laplace, label=\"Laplace\")\n",
        "plt.plot(*omega_gauss, label=\"Gauss\")\n",
        "plt.title(f\"Privacy Loss Distribution\")\n",
        "plt.xlim([-3,3])\n",
        "plt.legend()\n",
        "plt.show()"
      ],
      "execution_count": null,
      "outputs": []
    }
  ]
}